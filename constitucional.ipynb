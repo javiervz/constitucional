{
 "cells": [
  {
   "cell_type": "code",
   "execution_count": 1,
   "metadata": {},
   "outputs": [],
   "source": [
    "import string\n",
    "import re\n",
    "import nltk\n",
    "from nltk.corpus import stopwords\n",
    "import networkx as nx\n",
    "import matplotlib.pyplot as plt\n",
    "import operator"
   ]
  },
  {
   "cell_type": "code",
   "execution_count": 2,
   "metadata": {},
   "outputs": [
    {
     "name": "stdout",
     "output_type": "stream",
     "text": [
      "[nltk_data] Downloading package stopwords to /home/javier/nltk_data...\n",
      "[nltk_data]   Package stopwords is already up-to-date!\n"
     ]
    },
    {
     "data": {
      "text/plain": [
       "True"
      ]
     },
     "execution_count": 2,
     "metadata": {},
     "output_type": "execute_result"
    }
   ],
   "source": [
    "nltk.download('stopwords')"
   ]
  },
  {
   "cell_type": "code",
   "execution_count": 3,
   "metadata": {},
   "outputs": [
    {
     "name": "stdout",
     "output_type": "stream",
     "text": [
      "Requirement already up-to-date: spacy in /home/javier/anaconda3/lib/python3.6/site-packages (2.2.3)\n",
      "Requirement already satisfied, skipping upgrade: preshed<3.1.0,>=3.0.2 in /home/javier/anaconda3/lib/python3.6/site-packages (from spacy) (3.0.2)\n",
      "Requirement already satisfied, skipping upgrade: thinc<7.4.0,>=7.3.0 in /home/javier/anaconda3/lib/python3.6/site-packages (from spacy) (7.3.1)\n",
      "Requirement already satisfied, skipping upgrade: blis<0.5.0,>=0.4.0 in /home/javier/anaconda3/lib/python3.6/site-packages (from spacy) (0.4.1)\n",
      "Requirement already satisfied, skipping upgrade: murmurhash<1.1.0,>=0.28.0 in /home/javier/anaconda3/lib/python3.6/site-packages (from spacy) (0.28.0)\n",
      "Requirement already satisfied, skipping upgrade: numpy>=1.15.0 in /home/javier/.local/lib/python3.6/site-packages (from spacy) (1.15.2)\n",
      "Requirement already satisfied, skipping upgrade: requests<3.0.0,>=2.13.0 in /home/javier/anaconda3/lib/python3.6/site-packages (from spacy) (2.18.4)\n",
      "Requirement already satisfied, skipping upgrade: srsly<1.1.0,>=0.1.0 in /home/javier/anaconda3/lib/python3.6/site-packages (from spacy) (0.2.0)\n",
      "Requirement already satisfied, skipping upgrade: wasabi<1.1.0,>=0.4.0 in /home/javier/anaconda3/lib/python3.6/site-packages (from spacy) (0.4.0)\n",
      "Requirement already satisfied, skipping upgrade: cymem<2.1.0,>=2.0.2 in /home/javier/anaconda3/lib/python3.6/site-packages (from spacy) (2.0.3)\n",
      "Requirement already satisfied, skipping upgrade: setuptools in /home/javier/.local/lib/python3.6/site-packages (from spacy) (40.4.3)\n",
      "Requirement already satisfied, skipping upgrade: plac<1.2.0,>=0.9.6 in /home/javier/anaconda3/lib/python3.6/site-packages (from spacy) (0.9.6)\n",
      "Requirement already satisfied, skipping upgrade: catalogue<1.1.0,>=0.0.7 in /home/javier/anaconda3/lib/python3.6/site-packages (from spacy) (0.0.8)\n",
      "Requirement already satisfied, skipping upgrade: tqdm<5.0.0,>=4.10.0 in /home/javier/anaconda3/lib/python3.6/site-packages (from thinc<7.4.0,>=7.3.0->spacy) (4.24.0)\n",
      "Requirement already satisfied, skipping upgrade: urllib3<1.23,>=1.21.1 in /home/javier/anaconda3/lib/python3.6/site-packages (from requests<3.0.0,>=2.13.0->spacy) (1.22)\n",
      "Requirement already satisfied, skipping upgrade: idna<2.7,>=2.5 in /home/javier/anaconda3/lib/python3.6/site-packages (from requests<3.0.0,>=2.13.0->spacy) (2.6)\n",
      "Requirement already satisfied, skipping upgrade: chardet<3.1.0,>=3.0.2 in /home/javier/anaconda3/lib/python3.6/site-packages (from requests<3.0.0,>=2.13.0->spacy) (3.0.4)\n",
      "Requirement already satisfied, skipping upgrade: certifi>=2017.4.17 in /home/javier/anaconda3/lib/python3.6/site-packages (from requests<3.0.0,>=2.13.0->spacy) (2018.11.29)\n",
      "Requirement already satisfied, skipping upgrade: importlib-metadata>=0.20; python_version < \"3.8\" in /home/javier/anaconda3/lib/python3.6/site-packages (from catalogue<1.1.0,>=0.0.7->spacy) (0.23)\n",
      "Requirement already satisfied, skipping upgrade: zipp>=0.5 in /home/javier/anaconda3/lib/python3.6/site-packages (from importlib-metadata>=0.20; python_version < \"3.8\"->catalogue<1.1.0,>=0.0.7->spacy) (0.6.0)\n",
      "Requirement already satisfied, skipping upgrade: more-itertools in /home/javier/anaconda3/lib/python3.6/site-packages (from zipp>=0.5->importlib-metadata>=0.20; python_version < \"3.8\"->catalogue<1.1.0,>=0.0.7->spacy) (4.2.0)\n",
      "Requirement already satisfied, skipping upgrade: six<2.0.0,>=1.0.0 in /home/javier/.local/lib/python3.6/site-packages (from more-itertools->zipp>=0.5->importlib-metadata>=0.20; python_version < \"3.8\"->catalogue<1.1.0,>=0.0.7->spacy) (1.11.0)\n",
      "\u001b[33mYou are using pip version 19.0.3, however version 19.3.1 is available.\n",
      "You should consider upgrading via the 'pip install --upgrade pip' command.\u001b[0m\n",
      "Requirement already up-to-date: spacy-lookups-data in /home/javier/anaconda3/lib/python3.6/site-packages (0.2.0)\n",
      "Requirement already satisfied, skipping upgrade: setuptools in /home/javier/.local/lib/python3.6/site-packages (from spacy-lookups-data) (40.4.3)\n",
      "\u001b[33mYou are using pip version 19.0.3, however version 19.3.1 is available.\n",
      "You should consider upgrading via the 'pip install --upgrade pip' command.\u001b[0m\n",
      "Requirement already satisfied: es_core_news_sm==2.2.5 from https://github.com/explosion/spacy-models/releases/download/es_core_news_sm-2.2.5/es_core_news_sm-2.2.5.tar.gz#egg=es_core_news_sm==2.2.5 in /home/javier/anaconda3/lib/python3.6/site-packages (2.2.5)\n",
      "Requirement already satisfied: spacy>=2.2.2 in /home/javier/anaconda3/lib/python3.6/site-packages (from es_core_news_sm==2.2.5) (2.2.3)\n",
      "Requirement already satisfied: murmurhash<1.1.0,>=0.28.0 in /home/javier/anaconda3/lib/python3.6/site-packages (from spacy>=2.2.2->es_core_news_sm==2.2.5) (0.28.0)\n",
      "Requirement already satisfied: numpy>=1.15.0 in /home/javier/.local/lib/python3.6/site-packages (from spacy>=2.2.2->es_core_news_sm==2.2.5) (1.15.2)\n",
      "Requirement already satisfied: preshed<3.1.0,>=3.0.2 in /home/javier/anaconda3/lib/python3.6/site-packages (from spacy>=2.2.2->es_core_news_sm==2.2.5) (3.0.2)\n",
      "Requirement already satisfied: thinc<7.4.0,>=7.3.0 in /home/javier/anaconda3/lib/python3.6/site-packages (from spacy>=2.2.2->es_core_news_sm==2.2.5) (7.3.1)\n",
      "Requirement already satisfied: cymem<2.1.0,>=2.0.2 in /home/javier/anaconda3/lib/python3.6/site-packages (from spacy>=2.2.2->es_core_news_sm==2.2.5) (2.0.3)\n",
      "Requirement already satisfied: srsly<1.1.0,>=0.1.0 in /home/javier/anaconda3/lib/python3.6/site-packages (from spacy>=2.2.2->es_core_news_sm==2.2.5) (0.2.0)\n",
      "Requirement already satisfied: requests<3.0.0,>=2.13.0 in /home/javier/anaconda3/lib/python3.6/site-packages (from spacy>=2.2.2->es_core_news_sm==2.2.5) (2.18.4)\n",
      "Requirement already satisfied: catalogue<1.1.0,>=0.0.7 in /home/javier/anaconda3/lib/python3.6/site-packages (from spacy>=2.2.2->es_core_news_sm==2.2.5) (0.0.8)\n",
      "Requirement already satisfied: setuptools in /home/javier/.local/lib/python3.6/site-packages (from spacy>=2.2.2->es_core_news_sm==2.2.5) (40.4.3)\n",
      "Requirement already satisfied: plac<1.2.0,>=0.9.6 in /home/javier/anaconda3/lib/python3.6/site-packages (from spacy>=2.2.2->es_core_news_sm==2.2.5) (0.9.6)\n",
      "Requirement already satisfied: blis<0.5.0,>=0.4.0 in /home/javier/anaconda3/lib/python3.6/site-packages (from spacy>=2.2.2->es_core_news_sm==2.2.5) (0.4.1)\n",
      "Requirement already satisfied: wasabi<1.1.0,>=0.4.0 in /home/javier/anaconda3/lib/python3.6/site-packages (from spacy>=2.2.2->es_core_news_sm==2.2.5) (0.4.0)\n",
      "Requirement already satisfied: tqdm<5.0.0,>=4.10.0 in /home/javier/anaconda3/lib/python3.6/site-packages (from thinc<7.4.0,>=7.3.0->spacy>=2.2.2->es_core_news_sm==2.2.5) (4.24.0)\n",
      "Requirement already satisfied: idna<2.7,>=2.5 in /home/javier/anaconda3/lib/python3.6/site-packages (from requests<3.0.0,>=2.13.0->spacy>=2.2.2->es_core_news_sm==2.2.5) (2.6)\n",
      "Requirement already satisfied: urllib3<1.23,>=1.21.1 in /home/javier/anaconda3/lib/python3.6/site-packages (from requests<3.0.0,>=2.13.0->spacy>=2.2.2->es_core_news_sm==2.2.5) (1.22)\n",
      "Requirement already satisfied: chardet<3.1.0,>=3.0.2 in /home/javier/anaconda3/lib/python3.6/site-packages (from requests<3.0.0,>=2.13.0->spacy>=2.2.2->es_core_news_sm==2.2.5) (3.0.4)\n",
      "Requirement already satisfied: certifi>=2017.4.17 in /home/javier/anaconda3/lib/python3.6/site-packages (from requests<3.0.0,>=2.13.0->spacy>=2.2.2->es_core_news_sm==2.2.5) (2018.11.29)\n",
      "Requirement already satisfied: importlib-metadata>=0.20; python_version < \"3.8\" in /home/javier/anaconda3/lib/python3.6/site-packages (from catalogue<1.1.0,>=0.0.7->spacy>=2.2.2->es_core_news_sm==2.2.5) (0.23)\n",
      "Requirement already satisfied: zipp>=0.5 in /home/javier/anaconda3/lib/python3.6/site-packages (from importlib-metadata>=0.20; python_version < \"3.8\"->catalogue<1.1.0,>=0.0.7->spacy>=2.2.2->es_core_news_sm==2.2.5) (0.6.0)\n",
      "Requirement already satisfied: more-itertools in /home/javier/anaconda3/lib/python3.6/site-packages (from zipp>=0.5->importlib-metadata>=0.20; python_version < \"3.8\"->catalogue<1.1.0,>=0.0.7->spacy>=2.2.2->es_core_news_sm==2.2.5) (4.2.0)\n",
      "Requirement already satisfied: six<2.0.0,>=1.0.0 in /home/javier/.local/lib/python3.6/site-packages (from more-itertools->zipp>=0.5->importlib-metadata>=0.20; python_version < \"3.8\"->catalogue<1.1.0,>=0.0.7->spacy>=2.2.2->es_core_news_sm==2.2.5) (1.11.0)\n"
     ]
    },
    {
     "name": "stdout",
     "output_type": "stream",
     "text": [
      "\u001b[33mYou are using pip version 19.0.3, however version 19.3.1 is available.\n",
      "You should consider upgrading via the 'pip install --upgrade pip' command.\u001b[0m\n",
      "\u001b[38;5;2m✔ Download and installation successful\u001b[0m\n",
      "You can now load the model via spacy.load('es_core_news_sm')\n"
     ]
    }
   ],
   "source": [
    "!pip install -U spacy\n",
    "!pip install -U spacy-lookups-data\n",
    "!python -m spacy download es_core_news_sm"
   ]
  },
  {
   "cell_type": "code",
   "execution_count": 4,
   "metadata": {},
   "outputs": [
    {
     "name": "stdout",
     "output_type": "stream",
     "text": [
      "Requirement already satisfied: es-lemmatizer in /home/javier/anaconda3/lib/python3.6/site-packages (0.2.1)\n",
      "\u001b[33mYou are using pip version 19.0.3, however version 19.3.1 is available.\n",
      "You should consider upgrading via the 'pip install --upgrade pip' command.\u001b[0m\n"
     ]
    }
   ],
   "source": [
    "# https://github.com/pablodms/spacy-spanish-lemmatizer\n",
    "!pip install es-lemmatizer"
   ]
  },
  {
   "cell_type": "code",
   "execution_count": 5,
   "metadata": {},
   "outputs": [],
   "source": [
    "import spacy\n",
    "nlp = spacy.load('es_core_news_sm')"
   ]
  },
  {
   "cell_type": "code",
   "execution_count": 6,
   "metadata": {},
   "outputs": [],
   "source": [
    "# rule-based lemmatization\n",
    "from es_lemmatizer import lemmatize\n",
    "nlp.add_pipe(lemmatize, after='tagger')"
   ]
  },
  {
   "cell_type": "markdown",
   "metadata": {},
   "source": [
    "## read data\n",
    "### chile+bolivia+ecuador+uruguay+costa rica+peru"
   ]
  },
  {
   "cell_type": "code",
   "execution_count": 7,
   "metadata": {},
   "outputs": [],
   "source": [
    "f = open(\"chile.txt\", \"r\") \n",
    "chile=f.read()"
   ]
  },
  {
   "cell_type": "code",
   "execution_count": 8,
   "metadata": {},
   "outputs": [],
   "source": [
    "g = open(\"bolivia.txt\", \"r\") \n",
    "bolivia=g.read()"
   ]
  },
  {
   "cell_type": "code",
   "execution_count": 9,
   "metadata": {},
   "outputs": [],
   "source": [
    "h = open(\"ecuador.txt\", \"r\") \n",
    "ecuador=h.read()"
   ]
  },
  {
   "cell_type": "code",
   "execution_count": 10,
   "metadata": {},
   "outputs": [],
   "source": [
    "i = open(\"uruguay.txt\", \"r\") \n",
    "uruguay=i.read()"
   ]
  },
  {
   "cell_type": "code",
   "execution_count": 11,
   "metadata": {},
   "outputs": [],
   "source": [
    "j = open(\"costarica.txt\", \"r\") \n",
    "costarica=j.read()"
   ]
  },
  {
   "cell_type": "code",
   "execution_count": 12,
   "metadata": {},
   "outputs": [],
   "source": [
    "k = open(\"peru.txt\", \"r\") \n",
    "peru=k.read()"
   ]
  },
  {
   "cell_type": "code",
   "execution_count": 13,
   "metadata": {},
   "outputs": [
    {
     "data": {
      "text/plain": [
       "'Capítulo I\\n\\n     BASES DE LA INSTITUCIONALIDAD\\n\\n\\n\\n\\n     Artículo 1°.- Las personas nacen libres e iguales en dignidad y derechos.\\n     La familia es el núcleo fundamental de la sociedad.\\n     El Estado reconoce y ampara a los grupos intermedios a través de los cuales se organiza y estructura la sociedad y les garantiza la adecuada autonomía para cumplir sus propios fines específicos.\\n     El Estado está al servicio de la persona humana y su finalidad es promover el bien común, para lo cual debe contribuir a crear las condiciones sociales que permitan a todos y a cada uno de los integrantes de la comunidad nacional su mayor realización espiritual y material posible, con pleno respeto a los derechos y garantías que esta Constitución establece.\\n     Es deber del Estado resguardar la seguridad nacional, dar protección a la población y a la familia, propender al fortalecimiento de ésta, promover la integración armónica de todos los sectores de la Nación y asegurar el derecho de las personas'"
      ]
     },
     "execution_count": 13,
     "metadata": {},
     "output_type": "execute_result"
    }
   ],
   "source": [
    "chile[:1000]"
   ]
  },
  {
   "cell_type": "code",
   "execution_count": 14,
   "metadata": {},
   "outputs": [
    {
     "data": {
      "text/plain": [
       "'PREÁMBULO\\n\\nEn tiempos inmemoriales se erigieron montañas, se desplazaron ríos, se formaron lagos. Nuestra amazonia, nuestro chaco, nuestro altiplano y nuestros llanos y valles se cubrieron de verdores y flores. Poblamos esta sagrada Madre Tierra con rostros diferentes, y comprendimos desde entonces la pluralidad vigente de todas las cosas y nuestra diversidad como seres y culturas. Así conformamos nuestros pueblos, y jamás comprendimos el racismo hasta que lo sufrimos desde los funestos tiempos de la colonia.\\n\\nEl pueblo boliviano, de composición plural, desde la profundidad de la historia, inspirado en las luchas del pasado, en la sublevación indígena anticolonial, en la independencia, en las luchas populares de liberación, en las marchas indígenas, sociales y sindicales, en las guerras del agua y de octubre, en las luchas por la tierra y territorio, y con la memoria de nuestros mártires, construimos un nuevo Estado.\\n\\nUn Estado basado en el respeto e igualdad entre todos, con principio'"
      ]
     },
     "execution_count": 14,
     "metadata": {},
     "output_type": "execute_result"
    }
   ],
   "source": [
    "bolivia[:1000]"
   ]
  },
  {
   "cell_type": "code",
   "execution_count": 15,
   "metadata": {},
   "outputs": [
    {
     "data": {
      "text/plain": [
       "'Preámbulo\\n\\nNosotras y nosotros, el pueblo soberano del Ecuador\\n\\nRECONOCIENDO nuestras raíces milenarias, forjadas por mujeres y hombres de distintos pueblos,\\n\\nCELEBRANDO a la naturaleza, la Pacha Mama, de la que somos parte y que es vital para nuestra existencia,\\n\\nINVOCANDO el nombre de Dios y reconociendo nuestras diversas formas de religiosidad y espiritualidad,\\n\\nAPELANDO a la sabiduría de todas las culturas que nos enriquecen como sociedad,\\n\\nCOMO HEREDEROS de las luchas sociales de liberación frente a todas las formas de dominación y colonialismo,\\n\\nY con un profundo compromiso con el presente y el futuro,\\n\\nDecidimos construir\\n\\nUna nueva forma de convivencia ciudadana, en diversidad y armonía con la naturaleza, para alcanzar el buen vivir, el sumak kawsay;\\n\\nUna sociedad que respeta, en todas sus dimensiones, la dignidad de las personas y las colectividades;\\n\\nUn país democrático, comprometido con la integración latinoamericana —sueño de Bolívar y Alfaro-, la paz y la solidaridad con t'"
      ]
     },
     "execution_count": 15,
     "metadata": {},
     "output_type": "execute_result"
    }
   ],
   "source": [
    "ecuador[:1000]"
   ]
  },
  {
   "cell_type": "code",
   "execution_count": 16,
   "metadata": {},
   "outputs": [
    {
     "data": {
      "text/plain": [
       "'SECCIÓN I. DE LA NACIÓN Y SU SOBERANIA\\nCAPÍTULO I\\nArtículo 1º\\n\\nLa República Oriental del Uruguay es la asociación política de todos los habitantes comprendidos dentro de su territorio.\\nArtículo 2º\\n\\nElla es y será para siempre libre e independiente de todo poder extranjero.\\nArtículo 3º\\n\\nJamás será el patrimonio de personas ni de familia alguna.\\nCAPÍTULO II\\nArtículo 4º\\n\\nLa soberanía en toda su plenitud existe radicalmente en la Nación, a la que compete el derecho exclusivo de establecer sus leyes, del modo que más adelante se expresará.\\nCAPÍTULO III\\nArtículo 5º\\n\\nTodos los cultos religiosos son libres en el Uruguay. El Estado no sostiene religión alguna. Reconoce a la Iglesia Católica el dominio de todos los templos que hayan sido total o parcialmente construidos con fondos del Erario Nacional, exceptuándose sólo las capillas destinadas al servicio de asilos, hospitales, cárceles u otros establecimientos públicos. Declara, asimismo, exentos de toda clase de impuestos a los templos consagr'"
      ]
     },
     "execution_count": 16,
     "metadata": {},
     "output_type": "execute_result"
    }
   ],
   "source": [
    "uruguay[:1000]"
   ]
  },
  {
   "cell_type": "code",
   "execution_count": 17,
   "metadata": {},
   "outputs": [
    {
     "data": {
      "text/plain": [
       "'PREÁMBULO\\n\\nNosotros, los Representantes del pueblo de Costa Rica, libremente elegidos Diputados a la Asamblea Nacional Constituyente, invocando el nombre de Dios y reiterando nuestra fe en la Democracia, decretamos y sancionamos la siguiente:\\nTÍTULO I. LA REPÚBLICA\\nCapítulo Único\\nARTÍCULO 1\\n\\nCosta Rica es una República democrática, libre, independiente, multiétnica y pluricultural.\\nARTÍCULO 2\\n\\nLa Soberanía reside exclusivamente en la Nación.\\nARTÍCULO 3\\n\\nNadie puede arrogarse la soberanía; el que lo hiciere cometerá el delito de traición a la Patria.\\nARTÍCULO 4\\n\\nNinguna persona o reunión de personas puede asumir la representación del pueblo, arrogarse sus derechos, o hacer peticiones a su nombre. La infracción a este artículo será sedición.\\nARTÍCULO 5\\n\\nEl territorio nacional está comprendido entre el Mar Caribe, el Océano Pacífico y las Repúblicas de Nicaragua y Panamá. Los límites de la República son los que determina el Tratado Cañas - Jerez de 15 de abril de 1858 Tratado de Límites e'"
      ]
     },
     "execution_count": 17,
     "metadata": {},
     "output_type": "execute_result"
    }
   ],
   "source": [
    "costarica[:1000]"
   ]
  },
  {
   "cell_type": "code",
   "execution_count": 18,
   "metadata": {},
   "outputs": [
    {
     "data": {
      "text/plain": [
       "'\\nPREÁMBULO\\n\\nEL CONGRESO CONSTITUYENTE DEMOCRÁTICO, INVOCANDO A DIOS TODOPODEROSO, OBEDECIENDO EL MANDATO DEL PUEBLO PERUANO Y RECORDANDO EL SACRIFICIO DE TODAS LAS GENERACIONES QUE NOS HAN PRECEDIDO EN NUESTRA PATRIA, HA RESUELTO DAR LA SIGUIENTE CONSTITUCION:\\nTÍTULO I. DE LA PERSONA Y DE LA SOCIEDAD\\nCAPÍTULO I. DERECHOS FUNDAMENTALES DE LA PERSONA\\nArtículo 1°\\n\\nLa defensa de la persona humana y el respeto de su dignidad son el fin supremo de la sociedad y del Estado.\\nArtículo 2°\\n\\nToda persona tiene derecho:\\n\\n    1. A la vida, a su identidad, a su integridad moral, psíquica y física y a su libre desarrollo y bienestar. El concebido es sujeto de derecho en todo cuanto le favorece.\\n    2. A la igualdad ante la ley. Nadie debe ser discriminado por motivo de origen, raza, sexo, idioma, religión, opinión, condición económica o de cualquiera otra índole.\\n    3. A la libertad de conciencia y de religión, en forma individual o asociada. No hay persecución por razón de ideas o creencias. No hay '"
      ]
     },
     "execution_count": 18,
     "metadata": {},
     "output_type": "execute_result"
    }
   ],
   "source": [
    "peru[:1000]"
   ]
  },
  {
   "cell_type": "code",
   "execution_count": 19,
   "metadata": {},
   "outputs": [],
   "source": [
    "def clean(text,tag):\n",
    "    text=text.split('\\n') #line marker\n",
    "    text=[s.strip() for s in text if len(s)>0] #blank strings and remove blank characters\n",
    "    text=[s.lower() for s in text] #lower strings\n",
    "    text=[nlp(s) for s in text] \n",
    "    if tag=='noun':\n",
    "        text=[[token.lemma_ for token in s if token.pos_=='NOUN'] for s in text]#if token.tag_=='NN' or token.tag_=='NNS' or token.tag_=='JJ'] for s in text]\n",
    "    elif tag=='noun_adj':\n",
    "        text=[[token.lemma_ for token in s if token.pos_=='NOUN' or token.pos_=='ADJ'] for s in text]\n",
    "    elif tag=='noun_verb':\n",
    "        text=[[token.lemma_ for token in s if token.pos_=='NOUN' or token.pos_=='VERB'] for s in text]\n",
    "    elif tag=='verb':\n",
    "        text=[[token.lemma_ for token in s if token.pos_=='VERB'] for s in text]\n",
    "    elif tag=='all':\n",
    "        text=[[token.lemma_ for token in s if token.pos_=='NOUN' or token.pos_=='ADJ' or token.pos_=='VERB'] for s in text]\n",
    "    #table = str.maketrans({key: None for key in string.punctuation}) #remove punctuation\n",
    "    #text=[s.translate(table) for s in text]\n",
    "    #text=[s.split(' ') for s in text] #word-tokenization\n",
    "    #text=[[w for w in s if w not in ['artículo','capítulo']] for s in text] #remove two meaningless words\n",
    "    #pattern = re.compile('\\W')\n",
    "    #text=[[re.sub(pattern, '', w) for w in s] for s in text] #remove non-alphanumeric characters from strings\n",
    "    #text=[[w for w in s if not w.isdigit()] for s in text] #remove digits\n",
    "    text=[[w for w in s if w not in spacy.lang.es.stop_words.STOP_WORDS.union(set(stopwords.words('spanish')))] for s in text] #remove stopwords\n",
    "    roman_numerals=[\"i.\", \"ii.\", \"iii.\", \"iv.\", \"v.\", \"vi.\", \"vii.\", \"viii.\", \"ix.\",\"x.\", \"xx.\", \"xxx.\", \"xl.\", \"l.\", \"lx.\", \"lxx.\", \"lxxx.\", \"xc.\",\"c.\", \"cc.\", \"ccc.\", \"cd.\", \"d.\", \"dc.\", \"dcc.\", \"dccc.\", \"cm.\",\"m.\", \"mm.\", \"mmm.\"]\n",
    "    text=[[w for w in s if w.upper() not in roman_numerals] for s in text]\n",
    "    text=[s for s in text if len(s)>1] #remove shorter sentences\n",
    "\n",
    "    return text"
   ]
  },
  {
   "cell_type": "code",
   "execution_count": 20,
   "metadata": {},
   "outputs": [
    {
     "data": {
      "text/plain": [
       "[['base', 'institucionalidad'],\n",
       " ['persona', 'nacer', 'dignidad', 'derecho'],\n",
       " ['familia', 'núcleo', 'sociedad'],\n",
       " ['reconocer',\n",
       "  'amparar',\n",
       "  'grupo',\n",
       "  'organizar',\n",
       "  'estructurar',\n",
       "  'sociedad',\n",
       "  'garantizar',\n",
       "  'autonomía',\n",
       "  'cumplir'],\n",
       " ['servicio',\n",
       "  'persona',\n",
       "  'finalidad',\n",
       "  'promover',\n",
       "  'contribuir',\n",
       "  'crear',\n",
       "  'condición',\n",
       "  'permitir',\n",
       "  'integrante',\n",
       "  'comunidad',\n",
       "  'realización',\n",
       "  'material',\n",
       "  'respeto',\n",
       "  'derecho',\n",
       "  'garantía',\n",
       "  'constitución',\n",
       "  'establecer'],\n",
       " ['deber',\n",
       "  'resguardar',\n",
       "  'seguridad',\n",
       "  'protección',\n",
       "  'población',\n",
       "  'familia',\n",
       "  'propender',\n",
       "  'fortalecimiento',\n",
       "  'promover',\n",
       "  'integración',\n",
       "  'sector',\n",
       "  'nación',\n",
       "  'asegurar',\n",
       "  'derecho',\n",
       "  'persona',\n",
       "  'participar',\n",
       "  'igualdad',\n",
       "  'oportunidad',\n",
       "  'vida'],\n",
       " ['artículo', 'emblema', 'bandera', 'escudo', 'arma', 'himno'],\n",
       " ['administración', 'caso', 'conformidad', 'ley'],\n",
       " ['órgano',\n",
       "  'promover',\n",
       "  'fortalecimiento',\n",
       "  'regionalización',\n",
       "  'país',\n",
       "  'desarrollo',\n",
       "  'región',\n",
       "  'provincia',\n",
       "  'comuna',\n",
       "  'territorio'],\n",
       " ['soberanía',\n",
       "  'residir',\n",
       "  'nación',\n",
       "  'ejercicio',\n",
       "  'pueblo',\n",
       "  'plebiscito',\n",
       "  'elección',\n",
       "  'autoridad',\n",
       "  'constitución',\n",
       "  'establecer',\n",
       "  'sector',\n",
       "  'pueblo',\n",
       "  'individuo',\n",
       "  'ejercicio']]"
      ]
     },
     "execution_count": 20,
     "metadata": {},
     "output_type": "execute_result"
    }
   ],
   "source": [
    "clean(chile,'noun_verb')[:10]"
   ]
  },
  {
   "cell_type": "code",
   "execution_count": null,
   "metadata": {},
   "outputs": [],
   "source": [
    "clean(bolivia,'noun_verb')[:10]"
   ]
  },
  {
   "cell_type": "code",
   "execution_count": null,
   "metadata": {},
   "outputs": [],
   "source": [
    "clean(ecuador,'noun_verb')[:10]"
   ]
  },
  {
   "cell_type": "code",
   "execution_count": null,
   "metadata": {},
   "outputs": [],
   "source": [
    "clean(uruguay,'noun_verb')[:10]"
   ]
  },
  {
   "cell_type": "code",
   "execution_count": null,
   "metadata": {},
   "outputs": [],
   "source": [
    "clean(costarica,'noun_verb')[:10]"
   ]
  },
  {
   "cell_type": "code",
   "execution_count": null,
   "metadata": {},
   "outputs": [],
   "source": [
    "clean(peru,'noun_verb')[:10]"
   ]
  },
  {
   "cell_type": "markdown",
   "metadata": {},
   "source": [
    "## networks"
   ]
  },
  {
   "cell_type": "code",
   "execution_count": null,
   "metadata": {},
   "outputs": [],
   "source": [
    "## original networks\n",
    "def GoW(text_clean):\n",
    "    G=nx.Graph()\n",
    "    for sentence in text_clean:\n",
    "        if len(sentence)>1:\n",
    "            pairs=list(zip(sentence,sentence[1:]))\n",
    "            for pair in pairs:\n",
    "                if G.has_edge(pair[0],pair[1])==False:\n",
    "                    G.add_edge(pair[0],pair[1],weight=1)\n",
    "                else:\n",
    "                    x=G[pair[0]][pair[1]]['weight']\n",
    "                    G[pair[0]][pair[1]]['weight']=x+1\n",
    "        \n",
    "    return G"
   ]
  },
  {
   "cell_type": "code",
   "execution_count": null,
   "metadata": {},
   "outputs": [],
   "source": [
    "def plot_graph(G,tag,country):\n",
    "    \n",
    "    eigen_centrality = nx.eigenvector_centrality(G,weight='weight',max_iter=10000)\n",
    "    max_centrality = list(zip(*sorted(eigen_centrality.items(), key=operator.itemgetter(1),reverse=True)[0]))[0]\n",
    "    #G.remove_nodes_from([n for n in G if n not in set(sorted_centrality)])    \n",
    "    #G = max(nx.connected_component_subgraphs(G), key=len)\n",
    "    G.remove_edges_from(nx.selfloop_edges(G))\n",
    "    G=nx.k_core(G)\n",
    "    #G=nx.maximum_spanning_tree(G,weight='weight')\n",
    "    G=nx.dfs_tree(G,source=max_centrality)\n",
    "    \n",
    "    \n",
    "    eigen_centrality = nx.eigenvector_centrality(G,weight='weight',max_iter=10000)\n",
    "    node_sizes=list(eigen_centrality.values())\n",
    "    sorted_centrality = list(zip(*sorted(eigen_centrality.items(), key=operator.itemgetter(1),reverse=True)[:]))[0][0]\n",
    "    pos = nx.spring_layout(G)\n",
    "    labels=labels={i:i for i in G.nodes if i in sorted_centrality}\n",
    "    nx.draw_networkx_nodes(G, pos, node_size = [1000*(x+0.01) for x in node_sizes], node_color='orange',linewidths=0.1,alpha=0.75) \n",
    "    nx.draw_networkx_edges(G, pos, alpha=0.65,width=0.1,edge_color='cyan')\n",
    "    nx.draw_networkx_labels(G,pos,labels,alpha=0.9,font_size=2.5,font_color='k',font_family='monospace')\n",
    "    plt.axis('off')\n",
    "    plt.title('Constitución de '+country,fontname=\"Arial\",fontsize=9)\n",
    "    if tag=='noun':\n",
    "        plt.savefig('constitucion_'+country+'_noun.pdf', format='pdf', transparent=True, bbox_inches='tight',dpi=800)\n",
    "    elif tag=='noun_verb':\n",
    "        plt.savefig('constitucion_'+country+'_noun_verb.pdf', format='pdf', transparent=True, bbox_inches='tight',dpi=800)\n",
    "    elif tag=='noun_adj':\n",
    "        plt.savefig('constitucion_'+country+'_noun_adj.pdf', format='pdf', transparent=True, bbox_inches='tight',dpi=800)\n",
    "    if tag=='verb':\n",
    "        plt.savefig('constitucion_'+country+'_verb.pdf', format='pdf', transparent=True, bbox_inches='tight',dpi=800)\n",
    "    elif tag=='all':\n",
    "        plt.savefig('constitucion_'+country+'_all.pdf', format='pdf', transparent=True, bbox_inches='tight',dpi=800)\n",
    "    plt.show()"
   ]
  },
  {
   "cell_type": "code",
   "execution_count": null,
   "metadata": {},
   "outputs": [],
   "source": [
    "for country_pair in [(chile,'Chile'),(bolivia,'Bolivia'),(ecuador,'Ecuador'),(uruguay,'Uruguay'),(costarica,'Costa Rica'),(peru,'Perú')]:\n",
    "    for tag in ['noun','noun_adj','noun_verb','verb','all']:\n",
    "        G=GoW(clean(country_pair[0],tag))\n",
    "        plot_graph(G,tag,country_pair[1])"
   ]
  },
  {
   "cell_type": "code",
   "execution_count": null,
   "metadata": {},
   "outputs": [],
   "source": []
  }
 ],
 "metadata": {
  "kernelspec": {
   "display_name": "Python 3",
   "language": "python",
   "name": "python3"
  },
  "language_info": {
   "codemirror_mode": {
    "name": "ipython",
    "version": 3
   },
   "file_extension": ".py",
   "mimetype": "text/x-python",
   "name": "python",
   "nbconvert_exporter": "python",
   "pygments_lexer": "ipython3",
   "version": "3.6.8"
  },
  "toc": {
   "base_numbering": 1,
   "nav_menu": {},
   "number_sections": false,
   "sideBar": false,
   "skip_h1_title": false,
   "title_cell": "Table of Contents",
   "title_sidebar": "Contents",
   "toc_cell": false,
   "toc_position": {},
   "toc_section_display": false,
   "toc_window_display": false
  }
 },
 "nbformat": 4,
 "nbformat_minor": 4
}
