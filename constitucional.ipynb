{
 "cells": [
  {
   "cell_type": "code",
   "execution_count": 1,
   "metadata": {},
   "outputs": [],
   "source": [
    "import string\n",
    "import re\n",
    "import nltk\n",
    "from nltk.corpus import stopwords\n",
    "import networkx as nx\n",
    "import matplotlib.pyplot as plt\n",
    "import operator"
   ]
  },
  {
   "cell_type": "code",
   "execution_count": 2,
   "metadata": {},
   "outputs": [
    {
     "name": "stdout",
     "output_type": "stream",
     "text": [
      "[nltk_data] Downloading package stopwords to /home/javier/nltk_data...\n",
      "[nltk_data]   Package stopwords is already up-to-date!\n"
     ]
    },
    {
     "data": {
      "text/plain": [
       "True"
      ]
     },
     "execution_count": 2,
     "metadata": {},
     "output_type": "execute_result"
    }
   ],
   "source": [
    "nltk.download('stopwords')"
   ]
  },
  {
   "cell_type": "code",
   "execution_count": 3,
   "metadata": {},
   "outputs": [
    {
     "name": "stdout",
     "output_type": "stream",
     "text": [
      "Requirement already up-to-date: spacy in /home/javier/anaconda3/lib/python3.6/site-packages (2.2.3)\n",
      "Requirement already satisfied, skipping upgrade: murmurhash<1.1.0,>=0.28.0 in /home/javier/anaconda3/lib/python3.6/site-packages (from spacy) (0.28.0)\n",
      "Requirement already satisfied, skipping upgrade: srsly<1.1.0,>=0.1.0 in /home/javier/anaconda3/lib/python3.6/site-packages (from spacy) (0.2.0)\n",
      "Requirement already satisfied, skipping upgrade: wasabi<1.1.0,>=0.4.0 in /home/javier/anaconda3/lib/python3.6/site-packages (from spacy) (0.4.0)\n",
      "Requirement already satisfied, skipping upgrade: setuptools in /home/javier/.local/lib/python3.6/site-packages (from spacy) (40.4.3)\n",
      "Requirement already satisfied, skipping upgrade: numpy>=1.15.0 in /home/javier/.local/lib/python3.6/site-packages (from spacy) (1.15.2)\n",
      "Requirement already satisfied, skipping upgrade: requests<3.0.0,>=2.13.0 in /home/javier/anaconda3/lib/python3.6/site-packages (from spacy) (2.18.4)\n",
      "Requirement already satisfied, skipping upgrade: catalogue<1.1.0,>=0.0.7 in /home/javier/anaconda3/lib/python3.6/site-packages (from spacy) (0.0.8)\n",
      "Requirement already satisfied, skipping upgrade: thinc<7.4.0,>=7.3.0 in /home/javier/anaconda3/lib/python3.6/site-packages (from spacy) (7.3.1)\n",
      "Requirement already satisfied, skipping upgrade: blis<0.5.0,>=0.4.0 in /home/javier/anaconda3/lib/python3.6/site-packages (from spacy) (0.4.1)\n",
      "Requirement already satisfied, skipping upgrade: preshed<3.1.0,>=3.0.2 in /home/javier/anaconda3/lib/python3.6/site-packages (from spacy) (3.0.2)\n",
      "Requirement already satisfied, skipping upgrade: plac<1.2.0,>=0.9.6 in /home/javier/anaconda3/lib/python3.6/site-packages (from spacy) (0.9.6)\n",
      "Requirement already satisfied, skipping upgrade: cymem<2.1.0,>=2.0.2 in /home/javier/anaconda3/lib/python3.6/site-packages (from spacy) (2.0.3)\n",
      "Requirement already satisfied, skipping upgrade: certifi>=2017.4.17 in /home/javier/anaconda3/lib/python3.6/site-packages (from requests<3.0.0,>=2.13.0->spacy) (2018.11.29)\n",
      "Requirement already satisfied, skipping upgrade: chardet<3.1.0,>=3.0.2 in /home/javier/anaconda3/lib/python3.6/site-packages (from requests<3.0.0,>=2.13.0->spacy) (3.0.4)\n",
      "Requirement already satisfied, skipping upgrade: urllib3<1.23,>=1.21.1 in /home/javier/anaconda3/lib/python3.6/site-packages (from requests<3.0.0,>=2.13.0->spacy) (1.22)\n",
      "Requirement already satisfied, skipping upgrade: idna<2.7,>=2.5 in /home/javier/anaconda3/lib/python3.6/site-packages (from requests<3.0.0,>=2.13.0->spacy) (2.6)\n",
      "Requirement already satisfied, skipping upgrade: importlib-metadata>=0.20; python_version < \"3.8\" in /home/javier/anaconda3/lib/python3.6/site-packages (from catalogue<1.1.0,>=0.0.7->spacy) (0.23)\n",
      "Requirement already satisfied, skipping upgrade: tqdm<5.0.0,>=4.10.0 in /home/javier/anaconda3/lib/python3.6/site-packages (from thinc<7.4.0,>=7.3.0->spacy) (4.24.0)\n",
      "Requirement already satisfied, skipping upgrade: zipp>=0.5 in /home/javier/anaconda3/lib/python3.6/site-packages (from importlib-metadata>=0.20; python_version < \"3.8\"->catalogue<1.1.0,>=0.0.7->spacy) (0.6.0)\n",
      "Requirement already satisfied, skipping upgrade: more-itertools in /home/javier/anaconda3/lib/python3.6/site-packages (from zipp>=0.5->importlib-metadata>=0.20; python_version < \"3.8\"->catalogue<1.1.0,>=0.0.7->spacy) (4.2.0)\n",
      "Requirement already satisfied, skipping upgrade: six<2.0.0,>=1.0.0 in /home/javier/.local/lib/python3.6/site-packages (from more-itertools->zipp>=0.5->importlib-metadata>=0.20; python_version < \"3.8\"->catalogue<1.1.0,>=0.0.7->spacy) (1.11.0)\n",
      "\u001b[33mYou are using pip version 19.0.3, however version 19.3.1 is available.\n",
      "You should consider upgrading via the 'pip install --upgrade pip' command.\u001b[0m\n",
      "Requirement already up-to-date: spacy-lookups-data in /home/javier/anaconda3/lib/python3.6/site-packages (0.2.0)\n",
      "Requirement already satisfied, skipping upgrade: setuptools in /home/javier/.local/lib/python3.6/site-packages (from spacy-lookups-data) (40.4.3)\n",
      "\u001b[33mYou are using pip version 19.0.3, however version 19.3.1 is available.\n",
      "You should consider upgrading via the 'pip install --upgrade pip' command.\u001b[0m\n",
      "Requirement already satisfied: es_core_news_sm==2.2.5 from https://github.com/explosion/spacy-models/releases/download/es_core_news_sm-2.2.5/es_core_news_sm-2.2.5.tar.gz#egg=es_core_news_sm==2.2.5 in /home/javier/anaconda3/lib/python3.6/site-packages (2.2.5)\n",
      "Requirement already satisfied: spacy>=2.2.2 in /home/javier/anaconda3/lib/python3.6/site-packages (from es_core_news_sm==2.2.5) (2.2.3)\n",
      "Requirement already satisfied: cymem<2.1.0,>=2.0.2 in /home/javier/anaconda3/lib/python3.6/site-packages (from spacy>=2.2.2->es_core_news_sm==2.2.5) (2.0.3)\n",
      "Requirement already satisfied: plac<1.2.0,>=0.9.6 in /home/javier/anaconda3/lib/python3.6/site-packages (from spacy>=2.2.2->es_core_news_sm==2.2.5) (0.9.6)\n",
      "Requirement already satisfied: blis<0.5.0,>=0.4.0 in /home/javier/anaconda3/lib/python3.6/site-packages (from spacy>=2.2.2->es_core_news_sm==2.2.5) (0.4.1)\n",
      "Requirement already satisfied: srsly<1.1.0,>=0.1.0 in /home/javier/anaconda3/lib/python3.6/site-packages (from spacy>=2.2.2->es_core_news_sm==2.2.5) (0.2.0)\n",
      "Requirement already satisfied: wasabi<1.1.0,>=0.4.0 in /home/javier/anaconda3/lib/python3.6/site-packages (from spacy>=2.2.2->es_core_news_sm==2.2.5) (0.4.0)\n",
      "Requirement already satisfied: preshed<3.1.0,>=3.0.2 in /home/javier/anaconda3/lib/python3.6/site-packages (from spacy>=2.2.2->es_core_news_sm==2.2.5) (3.0.2)\n",
      "Requirement already satisfied: setuptools in /home/javier/.local/lib/python3.6/site-packages (from spacy>=2.2.2->es_core_news_sm==2.2.5) (40.4.3)\n",
      "Requirement already satisfied: catalogue<1.1.0,>=0.0.7 in /home/javier/anaconda3/lib/python3.6/site-packages (from spacy>=2.2.2->es_core_news_sm==2.2.5) (0.0.8)\n",
      "Requirement already satisfied: requests<3.0.0,>=2.13.0 in /home/javier/anaconda3/lib/python3.6/site-packages (from spacy>=2.2.2->es_core_news_sm==2.2.5) (2.18.4)\n",
      "Requirement already satisfied: numpy>=1.15.0 in /home/javier/.local/lib/python3.6/site-packages (from spacy>=2.2.2->es_core_news_sm==2.2.5) (1.15.2)\n",
      "Requirement already satisfied: murmurhash<1.1.0,>=0.28.0 in /home/javier/anaconda3/lib/python3.6/site-packages (from spacy>=2.2.2->es_core_news_sm==2.2.5) (0.28.0)\n",
      "Requirement already satisfied: thinc<7.4.0,>=7.3.0 in /home/javier/anaconda3/lib/python3.6/site-packages (from spacy>=2.2.2->es_core_news_sm==2.2.5) (7.3.1)\n",
      "Requirement already satisfied: importlib-metadata>=0.20; python_version < \"3.8\" in /home/javier/anaconda3/lib/python3.6/site-packages (from catalogue<1.1.0,>=0.0.7->spacy>=2.2.2->es_core_news_sm==2.2.5) (0.23)\n",
      "Requirement already satisfied: idna<2.7,>=2.5 in /home/javier/anaconda3/lib/python3.6/site-packages (from requests<3.0.0,>=2.13.0->spacy>=2.2.2->es_core_news_sm==2.2.5) (2.6)\n",
      "Requirement already satisfied: urllib3<1.23,>=1.21.1 in /home/javier/anaconda3/lib/python3.6/site-packages (from requests<3.0.0,>=2.13.0->spacy>=2.2.2->es_core_news_sm==2.2.5) (1.22)\n",
      "Requirement already satisfied: certifi>=2017.4.17 in /home/javier/anaconda3/lib/python3.6/site-packages (from requests<3.0.0,>=2.13.0->spacy>=2.2.2->es_core_news_sm==2.2.5) (2018.11.29)\n",
      "Requirement already satisfied: chardet<3.1.0,>=3.0.2 in /home/javier/anaconda3/lib/python3.6/site-packages (from requests<3.0.0,>=2.13.0->spacy>=2.2.2->es_core_news_sm==2.2.5) (3.0.4)\n",
      "Requirement already satisfied: tqdm<5.0.0,>=4.10.0 in /home/javier/anaconda3/lib/python3.6/site-packages (from thinc<7.4.0,>=7.3.0->spacy>=2.2.2->es_core_news_sm==2.2.5) (4.24.0)\n",
      "Requirement already satisfied: zipp>=0.5 in /home/javier/anaconda3/lib/python3.6/site-packages (from importlib-metadata>=0.20; python_version < \"3.8\"->catalogue<1.1.0,>=0.0.7->spacy>=2.2.2->es_core_news_sm==2.2.5) (0.6.0)\n",
      "Requirement already satisfied: more-itertools in /home/javier/anaconda3/lib/python3.6/site-packages (from zipp>=0.5->importlib-metadata>=0.20; python_version < \"3.8\"->catalogue<1.1.0,>=0.0.7->spacy>=2.2.2->es_core_news_sm==2.2.5) (4.2.0)\n",
      "Requirement already satisfied: six<2.0.0,>=1.0.0 in /home/javier/.local/lib/python3.6/site-packages (from more-itertools->zipp>=0.5->importlib-metadata>=0.20; python_version < \"3.8\"->catalogue<1.1.0,>=0.0.7->spacy>=2.2.2->es_core_news_sm==2.2.5) (1.11.0)\n"
     ]
    },
    {
     "name": "stdout",
     "output_type": "stream",
     "text": [
      "\u001b[33mYou are using pip version 19.0.3, however version 19.3.1 is available.\n",
      "You should consider upgrading via the 'pip install --upgrade pip' command.\u001b[0m\n",
      "\u001b[38;5;2m✔ Download and installation successful\u001b[0m\n",
      "You can now load the model via spacy.load('es_core_news_sm')\n"
     ]
    }
   ],
   "source": [
    "!pip install -U spacy\n",
    "!pip install -U spacy-lookups-data\n",
    "!python -m spacy download es_core_news_sm"
   ]
  },
  {
   "cell_type": "code",
   "execution_count": 4,
   "metadata": {},
   "outputs": [
    {
     "name": "stdout",
     "output_type": "stream",
     "text": [
      "Requirement already satisfied: es-lemmatizer in /home/javier/anaconda3/lib/python3.6/site-packages (0.2.1)\n",
      "\u001b[33mYou are using pip version 19.0.3, however version 19.3.1 is available.\n",
      "You should consider upgrading via the 'pip install --upgrade pip' command.\u001b[0m\n"
     ]
    }
   ],
   "source": [
    "# https://github.com/pablodms/spacy-spanish-lemmatizer\n",
    "!pip install es-lemmatizer"
   ]
  },
  {
   "cell_type": "code",
   "execution_count": 5,
   "metadata": {},
   "outputs": [],
   "source": [
    "import spacy\n",
    "nlp = spacy.load('es_core_news_sm')"
   ]
  },
  {
   "cell_type": "code",
   "execution_count": 6,
   "metadata": {},
   "outputs": [],
   "source": [
    "# rule-based lemmatization\n",
    "from es_lemmatizer import lemmatize\n",
    "nlp.add_pipe(lemmatize, after='tagger')"
   ]
  },
  {
   "cell_type": "markdown",
   "metadata": {},
   "source": [
    "## read data"
   ]
  },
  {
   "cell_type": "code",
   "execution_count": 7,
   "metadata": {},
   "outputs": [],
   "source": [
    "f = open(\"constitucion.txt\", \"r\") \n",
    "constitucion=f.read()"
   ]
  },
  {
   "cell_type": "code",
   "execution_count": 8,
   "metadata": {},
   "outputs": [
    {
     "data": {
      "text/plain": [
       "'Capítulo I\\n\\n     BASES DE LA INSTITUCIONALIDAD\\n\\n\\n\\n\\n     Artículo 1°.- Las personas nacen libres e iguales en dignidad y derechos.\\n     La familia es el núcleo fundamental de la sociedad.\\n     El Estado reconoce y ampara a los grupos intermedios a través de los cuales se organiza y estructura la sociedad y les garantiza la adecuada autonomía para cumplir sus propios fines específicos.\\n     El Estado está al servicio de la persona humana y su finalidad es promover el bien común, para lo cual debe contribuir a crear las condiciones sociales que permitan a todos y a cada uno de los integrantes de la comunidad nacional su mayor realización espiritual y material posible, con pleno respeto a los derechos y garantías que esta Constitución establece.\\n     Es deber del Estado resguardar la seguridad nacional, dar protección a la población y a la familia, propender al fortalecimiento de ésta, promover la integración armónica de todos los sectores de la Nación y asegurar el derecho de las personas'"
      ]
     },
     "execution_count": 8,
     "metadata": {},
     "output_type": "execute_result"
    }
   ],
   "source": [
    "constitucion[:1000]"
   ]
  },
  {
   "cell_type": "code",
   "execution_count": 9,
   "metadata": {},
   "outputs": [],
   "source": [
    "def clean(text,tag=None):\n",
    "    text=text.split('\\n') #line marker\n",
    "    text=[s.strip() for s in text if len(s)>0] #blank strings and remove blank characters\n",
    "    text=[s.lower() for s in text] #lower strings\n",
    "    text=[nlp(s) for s in text] \n",
    "    if tag==None:\n",
    "        text=[[token.lemma_ for token in s if token.pos_=='NOUN'] for s in text]#if token.tag_=='NN' or token.tag_=='NNS' or token.tag_=='JJ'] for s in text]\n",
    "    elif tag=='noun_adj':\n",
    "        text=[[token.lemma_ for token in s if token.pos_=='NOUN' or token.pos_=='ADJ'] for s in text]\n",
    "    elif tag=='noun_verb':\n",
    "        text=[[token.lemma_ for token in s if token.pos_=='NOUN' or token.pos_=='VERB'] for s in text]\n",
    "    elif tag=='verb':\n",
    "        text=[[token.lemma_ for token in s if token.pos_=='VERB'] for s in text]\n",
    "    elif tag=='all':\n",
    "        text=[[token.lemma_ for token in s if token.pos_=='NOUN' or token.pos_=='ADJ' or token.pos_=='VERB'] for s in text]\n",
    "    #table = str.maketrans({key: None for key in string.punctuation}) #remove punctuation\n",
    "    #text=[s.translate(table) for s in text]\n",
    "    #text=[s.split(' ') for s in text] #word-tokenization\n",
    "    text=[[w for w in s if w not in ['artículo','capítulo']] for s in text] #remove two meaningless words\n",
    "    #pattern = re.compile('\\W')\n",
    "    #text=[[re.sub(pattern, '', w) for w in s] for s in text] #remove non-alphanumeric characters from strings\n",
    "    #text=[[w for w in s if not w.isdigit()] for s in text] #remove digits\n",
    "    text=[[w for w in s if w not in spacy.lang.es.stop_words.STOP_WORDS.union(set(stopwords.words('spanish')))] for s in text] #remove stopwords\n",
    "    text=[s for s in text if len(s)>1] #remove shorter sentences\n",
    "\n",
    "    return text"
   ]
  },
  {
   "cell_type": "code",
   "execution_count": 10,
   "metadata": {},
   "outputs": [
    {
     "data": {
      "text/plain": [
       "[['base', 'institucionalidad'],\n",
       " ['persona', 'nacer', 'dignidad', 'derecho'],\n",
       " ['familia', 'núcleo', 'sociedad'],\n",
       " ['reconocer',\n",
       "  'amparar',\n",
       "  'grupo',\n",
       "  'organizar',\n",
       "  'estructurar',\n",
       "  'sociedad',\n",
       "  'garantizar',\n",
       "  'autonomía',\n",
       "  'cumplir'],\n",
       " ['servicio',\n",
       "  'persona',\n",
       "  'finalidad',\n",
       "  'promover',\n",
       "  'contribuir',\n",
       "  'crear',\n",
       "  'condición',\n",
       "  'permitir',\n",
       "  'integrante',\n",
       "  'comunidad',\n",
       "  'realización',\n",
       "  'material',\n",
       "  'respeto',\n",
       "  'derecho',\n",
       "  'garantía',\n",
       "  'constitución',\n",
       "  'establecer'],\n",
       " ['deber',\n",
       "  'resguardar',\n",
       "  'seguridad',\n",
       "  'protección',\n",
       "  'población',\n",
       "  'familia',\n",
       "  'propender',\n",
       "  'fortalecimiento',\n",
       "  'promover',\n",
       "  'integración',\n",
       "  'sector',\n",
       "  'nación',\n",
       "  'asegurar',\n",
       "  'derecho',\n",
       "  'persona',\n",
       "  'participar',\n",
       "  'igualdad',\n",
       "  'oportunidad',\n",
       "  'vida'],\n",
       " ['emblema', 'bandera', 'escudo', 'arma', 'himno'],\n",
       " ['administración', 'caso', 'conformidad', 'ley'],\n",
       " ['órgano',\n",
       "  'promover',\n",
       "  'fortalecimiento',\n",
       "  'regionalización',\n",
       "  'país',\n",
       "  'desarrollo',\n",
       "  'región',\n",
       "  'provincia',\n",
       "  'comuna',\n",
       "  'territorio'],\n",
       " ['soberanía',\n",
       "  'residir',\n",
       "  'nación',\n",
       "  'ejercicio',\n",
       "  'pueblo',\n",
       "  'plebiscito',\n",
       "  'elección',\n",
       "  'autoridad',\n",
       "  'constitución',\n",
       "  'establecer',\n",
       "  'sector',\n",
       "  'pueblo',\n",
       "  'individuo',\n",
       "  'ejercicio']]"
      ]
     },
     "execution_count": 10,
     "metadata": {},
     "output_type": "execute_result"
    }
   ],
   "source": [
    "clean(constitucion,'noun_verb')[:10]"
   ]
  },
  {
   "cell_type": "markdown",
   "metadata": {},
   "source": [
    "## networks"
   ]
  },
  {
   "cell_type": "code",
   "execution_count": 11,
   "metadata": {},
   "outputs": [],
   "source": [
    "## original networks\n",
    "def GoW(text_clean):\n",
    "    G=nx.Graph()\n",
    "    for sentence in text_clean:\n",
    "        if len(sentence)>1:\n",
    "            pairs=list(zip(sentence,sentence[1:]))\n",
    "            for pair in pairs:\n",
    "                if G.has_edge(pair[0],pair[1])==False:\n",
    "                    G.add_edge(pair[0],pair[1],weight=1)\n",
    "                else:\n",
    "                    x=G[pair[0]][pair[1]]['weight']\n",
    "                    G[pair[0]][pair[1]]['weight']=x+1\n",
    "        \n",
    "    return G"
   ]
  },
  {
   "cell_type": "code",
   "execution_count": 12,
   "metadata": {},
   "outputs": [],
   "source": [
    "G=GoW(clean(constitucion,'noun_verb'))"
   ]
  },
  {
   "cell_type": "code",
   "execution_count": 13,
   "metadata": {},
   "outputs": [
    {
     "data": {
      "text/plain": [
       "1392"
      ]
     },
     "execution_count": 13,
     "metadata": {},
     "output_type": "execute_result"
    }
   ],
   "source": [
    "len(G)"
   ]
  },
  {
   "cell_type": "code",
   "execution_count": 14,
   "metadata": {},
   "outputs": [
    {
     "data": {
      "text/plain": [
       "True"
      ]
     },
     "execution_count": 14,
     "metadata": {},
     "output_type": "execute_result"
    }
   ],
   "source": [
    "nx.is_connected(G)"
   ]
  },
  {
   "cell_type": "code",
   "execution_count": 17,
   "metadata": {},
   "outputs": [],
   "source": [
    "def plot_graph(G):\n",
    "    G = max(nx.connected_component_subgraphs(G), key=len)\n",
    "    G=nx.maximum_spanning_tree(G,weight='weight')\n",
    "    page_centrality = nx.betweenness_centrality(G,weight='weight')\n",
    "    node_sizes=list(page_centrality.values())\n",
    "    sorted_centrality = list(zip(*sorted(page_centrality.items(), key=operator.itemgetter(1),reverse=True)[:50]))[0]\n",
    "    pos = nx.spring_layout(G)\n",
    "    labels=labels={i:i for i in G.nodes if i in sorted_centrality}\n",
    "    nx.draw_networkx_nodes(G, pos, node_size = [500*x for x in node_sizes], node_color='orange',alpha=0.75) \n",
    "    nx.draw_networkx_edges(G, pos, alpha=0.65,width=0.1,edge_color='gray')\n",
    "    nx.draw_networkx_labels(G,pos,labels,alpha=0.85,font_size=3,font_color='k',font_family='monospace')\n",
    "    plt.axis('off')\n",
    "    plt.title('Constitución de Chile')\n",
    "    plt.savefig('constitucion.pdf', format='pdf', transparent=True, bbox_inches='tight',dpi=800)\n",
    "    plt.show()"
   ]
  },
  {
   "cell_type": "code",
   "execution_count": 18,
   "metadata": {},
   "outputs": [
    {
     "name": "stderr",
     "output_type": "stream",
     "text": [
      "/home/javier/.local/lib/python3.6/site-packages/networkx/drawing/nx_pylab.py:611: MatplotlibDeprecationWarning: isinstance(..., numbers.Number)\n",
      "  if cb.is_numlike(alpha):\n"
     ]
    },
    {
     "data": {
      "image/png": "[encoded data removed]",
      "text/plain": [
       "<Figure size 432x288 with 1 Axes>"
      ]
     },
     "metadata": {},
     "output_type": "display_data"
    }
   ],
   "source": [
    "plot_graph(G)"
   ]
  },
  {
   "cell_type": "code",
   "execution_count": null,
   "metadata": {},
   "outputs": [],
   "source": []
  }
 ],
 "metadata": {
  "kernelspec": {
   "display_name": "Python 3",
   "language": "python",
   "name": "python3"
  },
  "language_info": {
   "codemirror_mode": {
    "name": "ipython",
    "version": 3
   },
   "file_extension": ".py",
   "mimetype": "text/x-python",
   "name": "python",
   "nbconvert_exporter": "python",
   "pygments_lexer": "ipython3",
   "version": "3.6.8"
  },
  "toc": {
   "base_numbering": 1,
   "nav_menu": {},
   "number_sections": false,
   "sideBar": false,
   "skip_h1_title": false,
   "title_cell": "Table of Contents",
   "title_sidebar": "Contents",
   "toc_cell": false,
   "toc_position": {},
   "toc_section_display": false,
   "toc_window_display": false
  }
 },
 "nbformat": 4,
 "nbformat_minor": 4
}
