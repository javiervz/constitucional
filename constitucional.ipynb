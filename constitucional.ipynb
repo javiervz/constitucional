{
 "cells": [
  {
   "cell_type": "code",
   "execution_count": 7,
   "metadata": {},
   "outputs": [],
   "source": [
    "import string\n",
    "import re\n",
    "import nltk\n",
    "from nltk.corpus import stopwords\n",
    "import networkx as nx\n",
    "import matplotlib.pyplot as plt\n",
    "import operator"
   ]
  },
  {
   "cell_type": "code",
   "execution_count": 8,
   "metadata": {},
   "outputs": [
    {
     "name": "stdout",
     "output_type": "stream",
     "text": [
      "[nltk_data] Downloading package stopwords to\n",
      "[nltk_data]     /home/ec2-user/nltk_data...\n",
      "[nltk_data]   Package stopwords is already up-to-date!\n"
     ]
    },
    {
     "data": {
      "text/plain": [
       "True"
      ]
     },
     "execution_count": 8,
     "metadata": {},
     "output_type": "execute_result"
    }
   ],
   "source": [
    "nltk.download('stopwords')"
   ]
  },
  {
   "cell_type": "markdown",
   "metadata": {},
   "source": [
    "## read data"
   ]
  },
  {
   "cell_type": "code",
   "execution_count": 9,
   "metadata": {},
   "outputs": [],
   "source": [
    "f = open(\"constitucion.txt\", \"r\") \n",
    "constitucion=f.read()"
   ]
  },
  {
   "cell_type": "code",
   "execution_count": 10,
   "metadata": {},
   "outputs": [
    {
     "data": {
      "text/plain": [
       "'Capítulo I\\n\\n     BASES DE LA INSTITUCIONALIDAD\\n\\n\\n\\n\\n     Artículo 1°.- Las personas nacen libres e iguales en dignidad y derechos.\\n     La familia es el núcleo fundamental de la sociedad.\\n     El Estado reconoce y ampara a los grupos intermedios a través de los cuales se organiza y estructura la sociedad y les garantiza la adecuada autonomía para cumplir sus propios fines específicos.\\n     El Estado está al servicio de la persona humana y su finalidad es promover el bien común, para lo cual debe contribuir a crear las condiciones sociales que permitan a todos y a cada uno de los integrantes de la comunidad nacional su mayor realización espiritual y material posible, con pleno respeto a los derechos y garantías que esta Constitución establece.\\n     Es deber del Estado resguardar la seguridad nacional, dar protección a la población y a la familia, propender al fortalecimiento de ésta, promover la integración armónica de todos los sectores de la Nación y asegurar el derecho de las personas'"
      ]
     },
     "execution_count": 10,
     "metadata": {},
     "output_type": "execute_result"
    }
   ],
   "source": [
    "constitucion[:1000]"
   ]
  },
  {
   "cell_type": "code",
   "execution_count": 11,
   "metadata": {},
   "outputs": [],
   "source": [
    "def clean(text):\n",
    "    text=text.split('\\n') #line marker\n",
    "    text=[s.strip() for s in text if len(s)>0] #blank strings and remove blank characters\n",
    "    text=[s.lower() for s in text] #lower strings\n",
    "    table = str.maketrans({key: None for key in string.punctuation}) #remove punctuation\n",
    "    text=[s.translate(table) for s in text]\n",
    "    text=[s.split(' ') for s in text] #word-tokenization\n",
    "    text=[[w for w in s if w not in ['artículo','capítulo']] for s in text] #remove two meaningless words\n",
    "    pattern = re.compile('\\W')\n",
    "    text=[[re.sub(pattern, '', w) for w in s] for s in text] #remove non-alphanumeric characters from strings\n",
    "    text=[[w for w in s if not w.isdigit()] for s in text] #remove digits\n",
    "    text=[[w for w in s if w not in set(stopwords.words('spanish'))] for s in text] #remove stopwords\n",
    "    text=[s for s in text if len(s)>1] #remove shorter sentences\n",
    "\n",
    "    return text"
   ]
  },
  {
   "cell_type": "code",
   "execution_count": 12,
   "metadata": {},
   "outputs": [
    {
     "data": {
      "text/plain": [
       "[['bases', 'institucionalidad'],\n",
       " ['personas', 'nacen', 'libres', 'iguales', 'dignidad', 'derechos'],\n",
       " ['familia', 'núcleo', 'fundamental', 'sociedad'],\n",
       " ['reconoce',\n",
       "  'ampara',\n",
       "  'grupos',\n",
       "  'intermedios',\n",
       "  'través',\n",
       "  'cuales',\n",
       "  'organiza',\n",
       "  'estructura',\n",
       "  'sociedad',\n",
       "  'garantiza',\n",
       "  'adecuada',\n",
       "  'autonomía',\n",
       "  'cumplir',\n",
       "  'propios',\n",
       "  'fines',\n",
       "  'específicos'],\n",
       " ['servicio',\n",
       "  'persona',\n",
       "  'humana',\n",
       "  'finalidad',\n",
       "  'promover',\n",
       "  'bien',\n",
       "  'común',\n",
       "  'debe',\n",
       "  'contribuir',\n",
       "  'crear',\n",
       "  'condiciones',\n",
       "  'sociales',\n",
       "  'permitan',\n",
       "  'cada',\n",
       "  'integrantes',\n",
       "  'comunidad',\n",
       "  'nacional',\n",
       "  'mayor',\n",
       "  'realización',\n",
       "  'espiritual',\n",
       "  'material',\n",
       "  'posible',\n",
       "  'pleno',\n",
       "  'respeto',\n",
       "  'derechos',\n",
       "  'garantías',\n",
       "  'constitución',\n",
       "  'establece'],\n",
       " ['deber',\n",
       "  'resguardar',\n",
       "  'seguridad',\n",
       "  'nacional',\n",
       "  'dar',\n",
       "  'protección',\n",
       "  'población',\n",
       "  'familia',\n",
       "  'propender',\n",
       "  'fortalecimiento',\n",
       "  'ésta',\n",
       "  'promover',\n",
       "  'integración',\n",
       "  'armónica',\n",
       "  'sectores',\n",
       "  'nación',\n",
       "  'asegurar',\n",
       "  'derecho',\n",
       "  'personas',\n",
       "  'participar',\n",
       "  'igualdad',\n",
       "  'oportunidades',\n",
       "  'vida',\n",
       "  'nacional'],\n",
       " ['2º',\n",
       "  'emblemas',\n",
       "  'nacionales',\n",
       "  'bandera',\n",
       "  'nacional',\n",
       "  'escudo',\n",
       "  'armas',\n",
       "  'república',\n",
       "  'himno',\n",
       "  'nacional'],\n",
       " ['3º', 'chile', 'unitario'],\n",
       " ['administración',\n",
       "  'funcional',\n",
       "  'territorialmente',\n",
       "  'descentralizada',\n",
       "  'desconcentrada',\n",
       "  'caso',\n",
       "  'conformidad',\n",
       "  'ley'],\n",
       " ['órganos',\n",
       "  'promoverán',\n",
       "  'fortalecimiento',\n",
       "  'regionalización',\n",
       "  'país',\n",
       "  'desarrollo',\n",
       "  'equitativo',\n",
       "  'solidario',\n",
       "  'regiones',\n",
       "  'provincias',\n",
       "  'comunas',\n",
       "  'territorio',\n",
       "  'nacional']]"
      ]
     },
     "execution_count": 12,
     "metadata": {},
     "output_type": "execute_result"
    }
   ],
   "source": [
    "clean(constitucion)[:10]"
   ]
  },
  {
   "cell_type": "markdown",
   "metadata": {},
   "source": [
    "## networks"
   ]
  },
  {
   "cell_type": "code",
   "execution_count": 13,
   "metadata": {},
   "outputs": [],
   "source": [
    "## original networks\n",
    "def GoW(text_clean):\n",
    "    G=nx.Graph()\n",
    "    for sentence in text_clean:\n",
    "        if len(sentence)>1:\n",
    "            pairs=list(zip(sentence,sentence[1:]))\n",
    "            for pair in pairs:\n",
    "                if G.has_edge(pair[0],pair[1])==False:\n",
    "                    G.add_edge(pair[0],pair[1],weight=1)\n",
    "                else:\n",
    "                    x=G[pair[0]][pair[1]]['weight']\n",
    "                    G[pair[0]][pair[1]]['weight']=x+1\n",
    "        \n",
    "    return G"
   ]
  },
  {
   "cell_type": "code",
   "execution_count": 14,
   "metadata": {},
   "outputs": [],
   "source": [
    "G=GoW(clean(constitucion))"
   ]
  },
  {
   "cell_type": "code",
   "execution_count": 15,
   "metadata": {},
   "outputs": [
    {
     "data": {
      "text/plain": [
       "3205"
      ]
     },
     "execution_count": 15,
     "metadata": {},
     "output_type": "execute_result"
    }
   ],
   "source": [
    "len(G)"
   ]
  },
  {
   "cell_type": "code",
   "execution_count": 16,
   "metadata": {},
   "outputs": [
    {
     "data": {
      "text/plain": [
       "True"
      ]
     },
     "execution_count": 16,
     "metadata": {},
     "output_type": "execute_result"
    }
   ],
   "source": [
    "nx.is_connected(G)"
   ]
  },
  {
   "cell_type": "code",
   "execution_count": 32,
   "metadata": {},
   "outputs": [],
   "source": [
    "def plot_graph(G):\n",
    "    G=nx.maximum_spanning_tree(G,weight='weight')\n",
    "    page_centrality = nx.pagerank(G)\n",
    "    node_sizes=list(page_centrality.values())\n",
    "    sorted_centrality = list(zip(*sorted(page_centrality.items(), key=operator.itemgetter(1),reverse=True)[:50]))[0]\n",
    "    pos = nx.spring_layout(G)\n",
    "    labels=labels={i:i for i in G.nodes if i in sorted_centrality}\n",
    "    nx.draw_networkx_nodes(G, pos, node_size = [10000*x for x in node_sizes], node_color='yellow',alpha=0.65) \n",
    "    nx.draw_networkx_edges(G, pos, alpha=0.65,width=0.1,edge_color='gray')\n",
    "    nx.draw_networkx_labels(G,pos,labels,alpha=1,font_size=2.5,font_color='k',font_family='monospace')\n",
    "    plt.axis('off')\n",
    "    plt.title('Constitución de Chile')\n",
    "    plt.savefig('constitucion.pdf', format='pdf', transparent=True, bbox_inches='tight',dpi=800)\n",
    "    plt.show()"
   ]
  },
  {
   "cell_type": "code",
   "execution_count": null,
   "metadata": {},
   "outputs": [],
   "source": [
    "plot_graph(G)"
   ]
  },
  {
   "cell_type": "code",
   "execution_count": null,
   "metadata": {},
   "outputs": [],
   "source": []
  }
 ],
 "metadata": {
  "kernelspec": {
   "display_name": "conda_python3",
   "language": "python",
   "name": "conda_python3"
  },
  "language_info": {
   "codemirror_mode": {
    "name": "ipython",
    "version": 3
   },
   "file_extension": ".py",
   "mimetype": "text/x-python",
   "name": "python",
   "nbconvert_exporter": "python",
   "pygments_lexer": "ipython3",
   "version": "3.6.5"
  },
  "toc": {
   "base_numbering": 1,
   "nav_menu": {},
   "number_sections": false,
   "sideBar": false,
   "skip_h1_title": false,
   "title_cell": "Table of Contents",
   "title_sidebar": "Contents",
   "toc_cell": false,
   "toc_position": {},
   "toc_section_display": false,
   "toc_window_display": false
  }
 },
 "nbformat": 4,
 "nbformat_minor": 4
}
